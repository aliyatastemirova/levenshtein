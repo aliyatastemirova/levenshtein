{
 "cells": [
  {
   "cell_type": "code",
   "execution_count": 1,
   "metadata": {},
   "outputs": [],
   "source": [
    "import pandas as pd\n",
    "import numpy as np "
   ]
  },
  {
   "cell_type": "markdown",
   "metadata": {},
   "source": [
    "# Reading the csv file"
   ]
  },
  {
   "cell_type": "code",
   "execution_count": 2,
   "metadata": {},
   "outputs": [],
   "source": [
    "df = pd.read_csv(\"20210103_hundenamen.csv\")"
   ]
  },
  {
   "cell_type": "code",
   "execution_count": 3,
   "metadata": {},
   "outputs": [],
   "source": [
    "#pd.set_option('display.max_rows', 9000)"
   ]
  },
  {
   "cell_type": "code",
   "execution_count": 4,
   "metadata": {},
   "outputs": [],
   "source": [
    "#df"
   ]
  },
  {
   "cell_type": "code",
   "execution_count": 5,
   "metadata": {},
   "outputs": [],
   "source": [
    "#df.value_counts()"
   ]
  },
  {
   "cell_type": "markdown",
   "metadata": {},
   "source": [
    "It seems like there are many rows that don't have a known value (unbekannt).\n",
    "These can be dropped"
   ]
  },
  {
   "cell_type": "code",
   "execution_count": 6,
   "metadata": {},
   "outputs": [
    {
     "data": {
      "text/html": [
       "<div>\n",
       "<style scoped>\n",
       "    .dataframe tbody tr th:only-of-type {\n",
       "        vertical-align: middle;\n",
       "    }\n",
       "\n",
       "    .dataframe tbody tr th {\n",
       "        vertical-align: top;\n",
       "    }\n",
       "\n",
       "    .dataframe thead th {\n",
       "        text-align: right;\n",
       "    }\n",
       "</style>\n",
       "<table border=\"1\" class=\"dataframe\">\n",
       "  <thead>\n",
       "    <tr style=\"text-align: right;\">\n",
       "      <th></th>\n",
       "      <th>HUNDENAME</th>\n",
       "      <th>GEBURTSJAHR_HUND</th>\n",
       "      <th>GESCHLECHT_HUND</th>\n",
       "    </tr>\n",
       "  </thead>\n",
       "  <tbody>\n",
       "    <tr>\n",
       "      <th>8569</th>\n",
       "      <td>unbekannt</td>\n",
       "      <td>2010</td>\n",
       "      <td>w</td>\n",
       "    </tr>\n",
       "    <tr>\n",
       "      <th>8570</th>\n",
       "      <td>unbekannt</td>\n",
       "      <td>2011</td>\n",
       "      <td>m</td>\n",
       "    </tr>\n",
       "    <tr>\n",
       "      <th>8571</th>\n",
       "      <td>unbekannt</td>\n",
       "      <td>2018</td>\n",
       "      <td>m</td>\n",
       "    </tr>\n",
       "    <tr>\n",
       "      <th>8572</th>\n",
       "      <td>unbekannt</td>\n",
       "      <td>2018</td>\n",
       "      <td>m</td>\n",
       "    </tr>\n",
       "    <tr>\n",
       "      <th>8573</th>\n",
       "      <td>unbekannt</td>\n",
       "      <td>2017</td>\n",
       "      <td>m</td>\n",
       "    </tr>\n",
       "  </tbody>\n",
       "</table>\n",
       "</div>"
      ],
      "text/plain": [
       "      HUNDENAME  GEBURTSJAHR_HUND GESCHLECHT_HUND\n",
       "8569  unbekannt              2010               w\n",
       "8570  unbekannt              2011               m\n",
       "8571  unbekannt              2018               m\n",
       "8572  unbekannt              2018               m\n",
       "8573  unbekannt              2017               m"
      ]
     },
     "execution_count": 6,
     "metadata": {},
     "output_type": "execute_result"
    }
   ],
   "source": [
    "df[df['HUNDENAME']==\"unbekannt\"]"
   ]
  },
  {
   "cell_type": "code",
   "execution_count": 7,
   "metadata": {},
   "outputs": [],
   "source": [
    "df = df.drop([8569, 8570, 8571, 8572, 8573])"
   ]
  },
  {
   "cell_type": "markdown",
   "metadata": {},
   "source": [
    "The distance for the same name should be calculated only once. \n",
    "Get only unique dog names."
   ]
  },
  {
   "cell_type": "code",
   "execution_count": 8,
   "metadata": {},
   "outputs": [],
   "source": [
    "unique_names = set(df['HUNDENAME'])"
   ]
  },
  {
   "cell_type": "markdown",
   "metadata": {},
   "source": [
    "# The easiest option"
   ]
  },
  {
   "cell_type": "markdown",
   "metadata": {},
   "source": [
    "Importing an existing library, which is optimized for this calculation"
   ]
  },
  {
   "cell_type": "code",
   "execution_count": 9,
   "metadata": {},
   "outputs": [],
   "source": [
    "from Levenshtein import distance as levenshtein_distance"
   ]
  },
  {
   "cell_type": "code",
   "execution_count": 10,
   "metadata": {},
   "outputs": [],
   "source": [
    "target = \"Luca\""
   ]
  },
  {
   "cell_type": "code",
   "execution_count": 11,
   "metadata": {},
   "outputs": [],
   "source": [
    "results = [n for n in unique_names if levenshtein_distance(n, target) == 1]"
   ]
  },
  {
   "cell_type": "code",
   "execution_count": 12,
   "metadata": {},
   "outputs": [
    {
     "data": {
      "text/plain": [
       "['Luba',\n",
       " 'Cuca',\n",
       " 'Lua',\n",
       " 'Luma',\n",
       " 'Lula',\n",
       " 'Lucia',\n",
       " 'Luna',\n",
       " 'Luce',\n",
       " 'Lucy',\n",
       " 'Lucas',\n",
       " 'Lupa',\n",
       " 'Yuca']"
      ]
     },
     "execution_count": 12,
     "metadata": {},
     "output_type": "execute_result"
    }
   ],
   "source": [
    "results"
   ]
  },
  {
   "cell_type": "markdown",
   "metadata": {},
   "source": [
    "# Implementing an independent solution"
   ]
  },
  {
   "cell_type": "markdown",
   "metadata": {},
   "source": [
    "Based on https://en.wikipedia.org/wiki/Wagner%E2%80%93Fischer_algorithm"
   ]
  },
  {
   "cell_type": "code",
   "execution_count": 13,
   "metadata": {},
   "outputs": [],
   "source": [
    "def get_distance(str1: str, str2: str) -> int:\n",
    "    '''\n",
    "    Compares two strings and returns Levenshtein distance between them.\n",
    "    Levenshtein distance between two strings is the minimum number of edits (per single character)\n",
    "    that are required to change the first string into the second string (insertion, deletion and substitution).\n",
    "    Param: str1 = a string with a length of more than 0, str2  = a string with a length of more than 0\n",
    "    Return: An integer (Levenshtein distance)\n",
    "    \n",
    "    Edge cases are not considered here.\n",
    "    Complexity: O(n*m), where n is the length of str1, and m is the length of str2.\n",
    "    '''\n",
    "    \n",
    "    len_x, len_y = len(str1), len(str2) # get length of each string\n",
    "    matrix = np.zeros((len_x + 1, len_y + 1)) # initiate a matrix of zeros of str1 length x str2 length\n",
    "    \n",
    "    # indexing the first row and the first column\n",
    "    for i in range(1, len_x + 1):\n",
    "        matrix[i, 0] = i\n",
    "    \n",
    "    for j in range(1, len_y + 1):\n",
    "        matrix[0, j] = j\n",
    "    \n",
    "    # compare letter by letter both row-wise and column-wise\n",
    "    for i in range(1, len_x + 1):\n",
    "        for j in range(1, len_y + 1):\n",
    "            if str1[i - 1] == str2[j - 1]:\n",
    "                substitution_cost = 0\n",
    "            else:\n",
    "                substitution_cost = 1\n",
    "                \n",
    "            matrix[i, j] = min(matrix[i - 1, j] + 1,                   # insertion\n",
    "                             matrix[i, j - 1] + 1,                     # deletion\n",
    "                             matrix[i - 1, j - 1] + substitution_cost) # substitution\n",
    "    \n",
    "    return matrix[len_x, len_y]"
   ]
  },
  {
   "cell_type": "code",
   "execution_count": 14,
   "metadata": {},
   "outputs": [],
   "source": [
    "results = [n for n in unique_names if get_distance(n, target) == 1]"
   ]
  },
  {
   "cell_type": "code",
   "execution_count": 15,
   "metadata": {},
   "outputs": [
    {
     "data": {
      "text/plain": [
       "['Luba',\n",
       " 'Cuca',\n",
       " 'Lua',\n",
       " 'Luma',\n",
       " 'Lula',\n",
       " 'Lucia',\n",
       " 'Luna',\n",
       " 'Luce',\n",
       " 'Lucy',\n",
       " 'Lucas',\n",
       " 'Lupa',\n",
       " 'Yuca']"
      ]
     },
     "execution_count": 15,
     "metadata": {},
     "output_type": "execute_result"
    }
   ],
   "source": [
    "results"
   ]
  },
  {
   "cell_type": "code",
   "execution_count": null,
   "metadata": {},
   "outputs": [],
   "source": []
  }
 ],
 "metadata": {
  "kernelspec": {
   "display_name": "Python 3",
   "language": "python",
   "name": "python3"
  },
  "language_info": {
   "codemirror_mode": {
    "name": "ipython",
    "version": 3
   },
   "file_extension": ".py",
   "mimetype": "text/x-python",
   "name": "python",
   "nbconvert_exporter": "python",
   "pygments_lexer": "ipython3",
   "version": "3.8.5"
  }
 },
 "nbformat": 4,
 "nbformat_minor": 4
}
